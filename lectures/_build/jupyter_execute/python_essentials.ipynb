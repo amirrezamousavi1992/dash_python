{
 "cells": [
  {
   "cell_type": "markdown",
   "id": "cc25099a",
   "metadata": {},
   "source": [
    "(python_done_right)=\n",
    "```{raw} jupyter\n",
    "<div id=\"qe-notebook-header\" align=\"right\" style=\"text-align:right;\">\n",
    "        <a href=\"https://quantecon.org/\" title=\"quantecon.org\">\n",
    "                <img style=\"width:250px;display:inline;\" width=\"250px\" src=\"https://assets.quantecon.org/img/qe-menubar-logo.svg\" alt=\"QuantEcon\">\n",
    "        </a>\n",
    "</div>\n",
    "```\n",
    "\n",
    "# Python Essentials\n",
    "\n",
    "## Overview\n",
    "\n",
    "We have covered a lot of material quite quickly, with a focus on examples.\n",
    "\n",
    "Now let's cover some core features of Python in a more systematic way.\n",
    "\n",
    "This approach is less exciting but helps clear up some details.\n",
    "\n",
    "## Data Types\n",
    "\n",
    "```{index} single: Python; Data Types\n",
    "```\n",
    "\n",
    "Computer programs typically keep track of a range of data types.\n",
    "\n",
    "For example, `1.5` is a floating point number, while `1` is an integer.\n",
    "\n",
    "Programs need to distinguish between these two types for various reasons.\n",
    "\n",
    "One is that they are stored in memory differently.\n",
    "\n",
    "Another is that arithmetic operations are different\n",
    "\n",
    "* For example, floating point arithmetic is implemented on most machines by a\n",
    "  specialized Floating Point Unit (FPU).\n",
    "\n",
    "In general, floats are more informative but arithmetic operations on integers\n",
    "are faster and more accurate.\n",
    "\n",
    "Python provides numerous other built-in Python data types, some of which we've already met\n",
    "\n",
    "* strings, lists, etc.\n",
    "\n",
    "Let's learn a bit more about them.\n",
    "\n",
    "### Primitive Data Types\n",
    "\n",
    "(boolean)=\n",
    "#### Boolean Values\n",
    "\n",
    "One simple data type is **Boolean values**, which can be either `True` or `False`"
   ]
  },
  {
   "cell_type": "code",
   "execution_count": 1,
   "id": "6c503dfc",
   "metadata": {},
   "outputs": [
    {
     "data": {
      "text/plain": [
       "True"
      ]
     },
     "execution_count": 1,
     "metadata": {},
     "output_type": "execute_result"
    }
   ],
   "source": [
    "x = True\n",
    "x"
   ]
  },
  {
   "cell_type": "markdown",
   "id": "32043afd",
   "metadata": {},
   "source": [
    "We can check the type of any object in memory using the `type()` function."
   ]
  },
  {
   "cell_type": "code",
   "execution_count": 2,
   "id": "8eeeae6f",
   "metadata": {},
   "outputs": [
    {
     "data": {
      "text/plain": [
       "bool"
      ]
     },
     "execution_count": 2,
     "metadata": {},
     "output_type": "execute_result"
    }
   ],
   "source": [
    "type(x)"
   ]
  },
  {
   "cell_type": "markdown",
   "id": "9e1a4497",
   "metadata": {},
   "source": [
    "In the next line of code, the interpreter evaluates the expression on the right of = and binds y to this value"
   ]
  },
  {
   "cell_type": "code",
   "execution_count": 3,
   "id": "0685b6f1",
   "metadata": {},
   "outputs": [
    {
     "data": {
      "text/plain": [
       "False"
      ]
     },
     "execution_count": 3,
     "metadata": {},
     "output_type": "execute_result"
    }
   ],
   "source": [
    "y = 100 < 10\n",
    "y"
   ]
  },
  {
   "cell_type": "code",
   "execution_count": 4,
   "id": "55492c16",
   "metadata": {},
   "outputs": [
    {
     "data": {
      "text/plain": [
       "bool"
      ]
     },
     "execution_count": 4,
     "metadata": {},
     "output_type": "execute_result"
    }
   ],
   "source": [
    "type(y)"
   ]
  },
  {
   "cell_type": "markdown",
   "id": "bc19fb91",
   "metadata": {},
   "source": [
    "In arithmetic expressions, `True` is converted to `1` and `False` is converted `0`.\n",
    "\n",
    "This is called **Boolean arithmetic** and is often useful in programming.\n",
    "\n",
    "Here are some examples"
   ]
  },
  {
   "cell_type": "code",
   "execution_count": 5,
   "id": "12f2810e",
   "metadata": {},
   "outputs": [
    {
     "data": {
      "text/plain": [
       "1"
      ]
     },
     "execution_count": 5,
     "metadata": {},
     "output_type": "execute_result"
    }
   ],
   "source": [
    "x + y"
   ]
  },
  {
   "cell_type": "code",
   "execution_count": 6,
   "id": "cee43540",
   "metadata": {},
   "outputs": [
    {
     "data": {
      "text/plain": [
       "0"
      ]
     },
     "execution_count": 6,
     "metadata": {},
     "output_type": "execute_result"
    }
   ],
   "source": [
    "x * y"
   ]
  },
  {
   "cell_type": "code",
   "execution_count": 7,
   "id": "8396d222",
   "metadata": {},
   "outputs": [
    {
     "data": {
      "text/plain": [
       "2"
      ]
     },
     "execution_count": 7,
     "metadata": {},
     "output_type": "execute_result"
    }
   ],
   "source": [
    "True + True"
   ]
  },
  {
   "cell_type": "code",
   "execution_count": 8,
   "id": "091489e9",
   "metadata": {},
   "outputs": [
    {
     "data": {
      "text/plain": [
       "3"
      ]
     },
     "execution_count": 8,
     "metadata": {},
     "output_type": "execute_result"
    }
   ],
   "source": [
    "bools = [True, True, False, True]  # List of Boolean values\n",
    "\n",
    "sum(bools)"
   ]
  },
  {
   "cell_type": "markdown",
   "id": "22af3145",
   "metadata": {},
   "source": [
    "#### Numeric Types\n",
    "\n",
    "Numeric types are also important primitive data types.\n",
    "\n",
    "We have seen `integer` and `float` types before.\n",
    "\n",
    "**Complex numbers** are another primitive data type in Python"
   ]
  },
  {
   "cell_type": "code",
   "execution_count": 9,
   "id": "bfa50e47",
   "metadata": {},
   "outputs": [
    {
     "name": "stdout",
     "output_type": "stream",
     "text": [
      "5j\n"
     ]
    },
    {
     "data": {
      "text/plain": [
       "complex"
      ]
     },
     "execution_count": 9,
     "metadata": {},
     "output_type": "execute_result"
    }
   ],
   "source": [
    "x = complex(1, 2)\n",
    "y = complex(2, 1)\n",
    "print(x * y)\n",
    "\n",
    "type(x)"
   ]
  },
  {
   "cell_type": "markdown",
   "id": "cfd405ed",
   "metadata": {},
   "source": [
    "### Containers\n",
    "\n",
    "Python has several basic types for storing collections of (possibly heterogeneous) data.\n",
    "\n",
    "Let's take a look at lists.\n",
    "\n",
    "List is a versatile and commonly used data structure that stores a collection of items. Lists are mutable, meaning their elements can be changed after they are created.\n",
    "\n",
    "You can create a list by enclosing comma-separated values in square brackets [ ]:"
   ]
  },
  {
   "cell_type": "code",
   "execution_count": 10,
   "id": "7d728863",
   "metadata": {},
   "outputs": [],
   "source": [
    "numbers = [1, 2, 3, 4, 5]  # Creating a list of numbers\n",
    "\n",
    "fruits = ['apple', 'banana', 'cherry'] # Creating a list of strings"
   ]
  },
  {
   "cell_type": "markdown",
   "id": "148a6cac",
   "metadata": {},
   "source": [
    "You can access elements in a list using indexing. Python uses zero-based indexing, meaning the first element is at index 0:"
   ]
  },
  {
   "cell_type": "code",
   "execution_count": 11,
   "id": "0815ee05",
   "metadata": {},
   "outputs": [
    {
     "name": "stdout",
     "output_type": "stream",
     "text": [
      "1\n",
      "banana\n"
     ]
    }
   ],
   "source": [
    "print(numbers[0])  # Output: 1\n",
    "print(fruits[1])   # Output: 'banana'"
   ]
  },
  {
   "cell_type": "markdown",
   "id": "b5199bb7",
   "metadata": {},
   "source": [
    "For more details on lists you can visit [Python Documentation](https://docs.python.org/3/tutorial/datastructures.html)\n",
    "\n",
    "```{index} single: Python; Tuples\n",
    "```\n",
    "\n",
    "A related data type is **tuples**, which are \"immutable\" lists"
   ]
  },
  {
   "cell_type": "code",
   "execution_count": 12,
   "id": "6c57aa42",
   "metadata": {},
   "outputs": [
    {
     "data": {
      "text/plain": [
       "('a', 'b')"
      ]
     },
     "execution_count": 12,
     "metadata": {},
     "output_type": "execute_result"
    }
   ],
   "source": [
    "x = ('a', 'b')  # Parentheses instead of the square brackets\n",
    "x = 'a', 'b'    # Or no brackets --- the meaning is identical\n",
    "x"
   ]
  },
  {
   "cell_type": "code",
   "execution_count": 13,
   "id": "bf1d0712",
   "metadata": {},
   "outputs": [
    {
     "data": {
      "text/plain": [
       "tuple"
      ]
     },
     "execution_count": 13,
     "metadata": {},
     "output_type": "execute_result"
    }
   ],
   "source": [
    "type(x)"
   ]
  },
  {
   "cell_type": "markdown",
   "id": "7cc62a8b",
   "metadata": {},
   "source": [
    "In Python, an object is called **immutable** if, once created, the object cannot be changed.\n",
    "\n",
    "Conversely, an object is **mutable** if it can still be altered after creation.\n",
    "\n",
    "Python lists are mutable"
   ]
  },
  {
   "cell_type": "code",
   "execution_count": 14,
   "id": "511834d1",
   "metadata": {},
   "outputs": [
    {
     "data": {
      "text/plain": [
       "[10, 2]"
      ]
     },
     "execution_count": 14,
     "metadata": {},
     "output_type": "execute_result"
    }
   ],
   "source": [
    "x = [1, 2]\n",
    "x[0] = 10\n",
    "x"
   ]
  },
  {
   "cell_type": "markdown",
   "id": "1656d663",
   "metadata": {},
   "source": [
    "But tuples are not"
   ]
  },
  {
   "cell_type": "code",
   "execution_count": 15,
   "id": "2883356b",
   "metadata": {
    "tags": [
     "raises-exception"
    ]
   },
   "outputs": [
    {
     "ename": "TypeError",
     "evalue": "'tuple' object does not support item assignment",
     "output_type": "error",
     "traceback": [
      "\u001b[0;31m---------------------------------------------------------------------------\u001b[0m",
      "\u001b[0;31mTypeError\u001b[0m                                 Traceback (most recent call last)",
      "Cell \u001b[0;32mIn[15], line 2\u001b[0m\n\u001b[1;32m      1\u001b[0m x \u001b[38;5;241m=\u001b[39m (\u001b[38;5;241m1\u001b[39m, \u001b[38;5;241m2\u001b[39m)\n\u001b[0;32m----> 2\u001b[0m x[\u001b[38;5;241m0\u001b[39m] \u001b[38;5;241m=\u001b[39m \u001b[38;5;241m10\u001b[39m\n",
      "\u001b[0;31mTypeError\u001b[0m: 'tuple' object does not support item assignment"
     ]
    }
   ],
   "source": [
    "x = (1, 2)\n",
    "x[0] = 10"
   ]
  },
  {
   "cell_type": "markdown",
   "id": "c11b189c",
   "metadata": {},
   "source": [
    "We'll say more about the role of mutable and immutable data a bit later.\n",
    "\n",
    "Tuples (and lists) can be \"unpacked\" as follows"
   ]
  },
  {
   "cell_type": "code",
   "execution_count": 16,
   "id": "29aca03b",
   "metadata": {},
   "outputs": [
    {
     "data": {
      "text/plain": [
       "10"
      ]
     },
     "execution_count": 16,
     "metadata": {},
     "output_type": "execute_result"
    }
   ],
   "source": [
    "integers = (10, 20, 30)\n",
    "x, y, z = integers\n",
    "x"
   ]
  },
  {
   "cell_type": "code",
   "execution_count": 17,
   "id": "3ce33509",
   "metadata": {},
   "outputs": [
    {
     "data": {
      "text/plain": [
       "20"
      ]
     },
     "execution_count": 17,
     "metadata": {},
     "output_type": "execute_result"
    }
   ],
   "source": [
    "y"
   ]
  },
  {
   "cell_type": "markdown",
   "id": "3c6298b6",
   "metadata": {},
   "source": [
    "Tuple unpacking is convenient and we'll use it often.\n",
    "\n",
    "#### Slice Notation\n",
    "\n",
    "```{index} single: Python; Slicing\n",
    "```\n",
    "\n",
    "To access multiple elements of a sequence (a list, a tuple or a string), you can use Python's slice\n",
    "notation.\n",
    "\n",
    "For example,"
   ]
  },
  {
   "cell_type": "code",
   "execution_count": 18,
   "id": "f142cbc8",
   "metadata": {},
   "outputs": [
    {
     "data": {
      "text/plain": [
       "['b', 'c', 'd', 'e']"
      ]
     },
     "execution_count": 18,
     "metadata": {},
     "output_type": "execute_result"
    }
   ],
   "source": [
    "a = [\"a\", \"b\", \"c\", \"d\", \"e\"]\n",
    "a[1:]"
   ]
  },
  {
   "cell_type": "code",
   "execution_count": 19,
   "id": "0236c6b2",
   "metadata": {},
   "outputs": [
    {
     "data": {
      "text/plain": [
       "['b', 'c']"
      ]
     },
     "execution_count": 19,
     "metadata": {},
     "output_type": "execute_result"
    }
   ],
   "source": [
    "a[1:3]"
   ]
  },
  {
   "cell_type": "markdown",
   "id": "afbeafba",
   "metadata": {},
   "source": [
    "The general rule is that `a[m:n]` returns `n - m` elements, starting at `a[m]`.\n",
    "\n",
    "Negative numbers are also permissible"
   ]
  },
  {
   "cell_type": "code",
   "execution_count": 20,
   "id": "3b2d359c",
   "metadata": {},
   "outputs": [
    {
     "data": {
      "text/plain": [
       "['d', 'e']"
      ]
     },
     "execution_count": 20,
     "metadata": {},
     "output_type": "execute_result"
    }
   ],
   "source": [
    "a[-2:]  # Last two elements of the list"
   ]
  },
  {
   "cell_type": "markdown",
   "id": "46cb85d3",
   "metadata": {},
   "source": [
    "You can also use the format `[start:end:step]` to specify the step"
   ]
  },
  {
   "cell_type": "code",
   "execution_count": 21,
   "id": "5d58cb56",
   "metadata": {},
   "outputs": [
    {
     "data": {
      "text/plain": [
       "['a', 'c', 'e']"
      ]
     },
     "execution_count": 21,
     "metadata": {},
     "output_type": "execute_result"
    }
   ],
   "source": [
    "a[::2]"
   ]
  },
  {
   "cell_type": "markdown",
   "id": "2fce6487",
   "metadata": {},
   "source": [
    "Using a negative step, you can return the sequence in a reversed order"
   ]
  },
  {
   "cell_type": "code",
   "execution_count": 22,
   "id": "978b886e",
   "metadata": {},
   "outputs": [
    {
     "data": {
      "text/plain": [
       "['d', 'c', 'b', 'a']"
      ]
     },
     "execution_count": 22,
     "metadata": {},
     "output_type": "execute_result"
    }
   ],
   "source": [
    "a[-2::-1] # Walk backwards from the second last element to the first element"
   ]
  },
  {
   "cell_type": "markdown",
   "id": "497f4411",
   "metadata": {},
   "source": [
    "The same slice notation works on tuples and strings"
   ]
  },
  {
   "cell_type": "code",
   "execution_count": 23,
   "id": "f2ab48fc",
   "metadata": {},
   "outputs": [
    {
     "data": {
      "text/plain": [
       "'bar'"
      ]
     },
     "execution_count": 23,
     "metadata": {},
     "output_type": "execute_result"
    }
   ],
   "source": [
    "s = 'foobar'\n",
    "s[-3:]  # Select the last three elements"
   ]
  },
  {
   "cell_type": "markdown",
   "id": "2559bed6",
   "metadata": {},
   "source": [
    "#### Sets and Dictionaries\n",
    "\n",
    "```{index} single: Python; Sets\n",
    "```\n",
    "\n",
    "```{index} single: Python; Dictionaries\n",
    "```\n",
    "\n",
    "Two other container types we should mention before moving on are [sets](https://docs.python.org/3/tutorial/datastructures.html#sets) and [dictionaries](https://docs.python.org/3/tutorial/datastructures.html#dictionaries).\n",
    "\n",
    "Dictionaries are much like lists, except that the items are named instead of\n",
    "numbered"
   ]
  },
  {
   "cell_type": "code",
   "execution_count": 24,
   "id": "2286be6d",
   "metadata": {},
   "outputs": [
    {
     "data": {
      "text/plain": [
       "dict"
      ]
     },
     "execution_count": 24,
     "metadata": {},
     "output_type": "execute_result"
    }
   ],
   "source": [
    "d = {'name': 'Frodo', 'age': 33}\n",
    "type(d)"
   ]
  },
  {
   "cell_type": "code",
   "execution_count": 25,
   "id": "703782b4",
   "metadata": {},
   "outputs": [
    {
     "data": {
      "text/plain": [
       "33"
      ]
     },
     "execution_count": 25,
     "metadata": {},
     "output_type": "execute_result"
    }
   ],
   "source": [
    "d['age']"
   ]
  },
  {
   "cell_type": "markdown",
   "id": "cfee1fc3",
   "metadata": {},
   "source": [
    "The names `'name'` and `'age'` are called the *keys*.\n",
    "\n",
    "The objects that the keys are mapped to (`'Frodo'` and `33`) are called the `values`.\n",
    "\n",
    "Sets are unordered collections without duplicates, and set methods provide the\n",
    "usual set-theoretic operations"
   ]
  },
  {
   "cell_type": "code",
   "execution_count": 26,
   "id": "dbbdd286",
   "metadata": {},
   "outputs": [
    {
     "data": {
      "text/plain": [
       "set"
      ]
     },
     "execution_count": 26,
     "metadata": {},
     "output_type": "execute_result"
    }
   ],
   "source": [
    "s1 = {'a', 'b'}\n",
    "type(s1)"
   ]
  },
  {
   "cell_type": "code",
   "execution_count": 27,
   "id": "6399530b",
   "metadata": {},
   "outputs": [
    {
     "data": {
      "text/plain": [
       "False"
      ]
     },
     "execution_count": 27,
     "metadata": {},
     "output_type": "execute_result"
    }
   ],
   "source": [
    "s2 = {'b', 'c'}\n",
    "s1.issubset(s2)"
   ]
  },
  {
   "cell_type": "code",
   "execution_count": 28,
   "id": "6fae7d83",
   "metadata": {},
   "outputs": [
    {
     "data": {
      "text/plain": [
       "{'b'}"
      ]
     },
     "execution_count": 28,
     "metadata": {},
     "output_type": "execute_result"
    }
   ],
   "source": [
    "s1.intersection(s2)"
   ]
  },
  {
   "cell_type": "markdown",
   "id": "e6b9a4ff",
   "metadata": {},
   "source": [
    "The `set()` function creates sets from sequences"
   ]
  },
  {
   "cell_type": "code",
   "execution_count": 29,
   "id": "f61cba56",
   "metadata": {},
   "outputs": [
    {
     "data": {
      "text/plain": [
       "{'bar', 'foo'}"
      ]
     },
     "execution_count": 29,
     "metadata": {},
     "output_type": "execute_result"
    }
   ],
   "source": [
    "s3 = set(('foo', 'bar', 'foo'))\n",
    "s3"
   ]
  },
  {
   "cell_type": "markdown",
   "id": "86963726",
   "metadata": {},
   "source": [
    "## Input and Output\n",
    "\n",
    "```{index} single: Python; IO\n",
    "```\n",
    "\n",
    "Let's briefly review reading and writing to text files, starting with writing"
   ]
  },
  {
   "cell_type": "code",
   "execution_count": 30,
   "id": "9c6332b9",
   "metadata": {},
   "outputs": [],
   "source": [
    "f = open('newfile.txt', 'w')   # Open 'newfile.txt' for writing\n",
    "f.write('Testing\\n')           # Here '\\n' means new line\n",
    "f.write('Testing again')\n",
    "f.close()"
   ]
  },
  {
   "cell_type": "markdown",
   "id": "0d8c8719",
   "metadata": {},
   "source": [
    "Here\n",
    "\n",
    "* The built-in function `open()` creates a file object for writing to.\n",
    "* Both `write()` and `close()` are methods of file objects.\n",
    "\n",
    "Where is this file that we've created?\n",
    "\n",
    "Recall that Python maintains a concept of the present working directory (pwd) that can be located from with Jupyter or IPython via"
   ]
  },
  {
   "cell_type": "code",
   "execution_count": 31,
   "id": "fc15a12d",
   "metadata": {},
   "outputs": [
    {
     "data": {
      "text/plain": [
       "'/Users/amirrezamousavi/Desktop/test_dash_3/python_dash/lectures'"
      ]
     },
     "execution_count": 31,
     "metadata": {},
     "output_type": "execute_result"
    }
   ],
   "source": [
    "%pwd"
   ]
  },
  {
   "cell_type": "markdown",
   "id": "d99a666b",
   "metadata": {},
   "source": [
    "If a path is not specified, then this is where Python writes to.\n",
    "\n",
    "We can also use Python to read the contents of `newline.txt` as follows"
   ]
  },
  {
   "cell_type": "code",
   "execution_count": 32,
   "id": "fe2b4b5c",
   "metadata": {},
   "outputs": [
    {
     "data": {
      "text/plain": [
       "'Testing\\nTesting again'"
      ]
     },
     "execution_count": 32,
     "metadata": {},
     "output_type": "execute_result"
    }
   ],
   "source": [
    "f = open('newfile.txt', 'r')\n",
    "out = f.read()\n",
    "out"
   ]
  },
  {
   "cell_type": "code",
   "execution_count": 33,
   "id": "a759e69e",
   "metadata": {},
   "outputs": [
    {
     "name": "stdout",
     "output_type": "stream",
     "text": [
      "Testing\n",
      "Testing again\n"
     ]
    }
   ],
   "source": [
    "print(out)"
   ]
  },
  {
   "cell_type": "markdown",
   "id": "6d969acf",
   "metadata": {},
   "source": [
    "In fact, the recommended approach in modern Python is to use a `with` statement to ensure the files are properly acquired and released.\n",
    "\n",
    "Containing the operations within the same block also improves the clarity of your code.\n",
    "\n",
    "```{note}\n",
    "This kind of block is formally referred to as a [*context*](https://realpython.com/python-with-statement/#the-with-statement-approach).\n",
    "```\n",
    "\n",
    "Let's try to convert the two examples above into a `with` statement.\n",
    "\n",
    "We change the writing example first"
   ]
  },
  {
   "cell_type": "code",
   "execution_count": 34,
   "id": "85647da7",
   "metadata": {},
   "outputs": [],
   "source": [
    "with open('newfile.txt', 'w') as f:  \n",
    "    f.write('Testing\\n')         \n",
    "    f.write('Testing again')"
   ]
  },
  {
   "cell_type": "markdown",
   "id": "0c59f547",
   "metadata": {},
   "source": [
    "Note that we do not need to call the `close()` method since the `with` block\n",
    "will ensure the stream is closed at the end of the block.\n",
    "\n",
    "With slight modifications, we can also read files using `with`"
   ]
  },
  {
   "cell_type": "code",
   "execution_count": 35,
   "id": "a158e085",
   "metadata": {},
   "outputs": [
    {
     "name": "stdout",
     "output_type": "stream",
     "text": [
      "Testing\n",
      "Testing again\n"
     ]
    }
   ],
   "source": [
    "with open('newfile.txt', 'r') as fo:\n",
    "    out = fo.read()\n",
    "    print(out)"
   ]
  },
  {
   "cell_type": "markdown",
   "id": "542166fb",
   "metadata": {},
   "source": [
    "Now suppose that we want to read input from one file and write output to another. \n",
    "Here's how we could accomplish this task while correctly acquiring and returning \n",
    "resources to the operating system using `with` statements:"
   ]
  },
  {
   "cell_type": "code",
   "execution_count": 36,
   "id": "603d8cff",
   "metadata": {},
   "outputs": [],
   "source": [
    "with open(\"newfile.txt\", \"r\") as f:\n",
    "    file = f.readlines()\n",
    "    with open(\"output.txt\", \"w\") as fo:\n",
    "        for i, line in enumerate(file):\n",
    "            fo.write(f'Line {i}: {line} \\n')"
   ]
  },
  {
   "cell_type": "markdown",
   "id": "6a606bcf",
   "metadata": {},
   "source": [
    "The output file will be"
   ]
  },
  {
   "cell_type": "code",
   "execution_count": 37,
   "id": "3dbfada6",
   "metadata": {},
   "outputs": [
    {
     "name": "stdout",
     "output_type": "stream",
     "text": [
      "Line 0: Testing\n",
      " \n",
      "Line 1: Testing again \n",
      "\n"
     ]
    }
   ],
   "source": [
    "with open('output.txt', 'r') as fo:\n",
    "    print(fo.read())"
   ]
  },
  {
   "cell_type": "markdown",
   "id": "804cbf01",
   "metadata": {},
   "source": [
    "We can simplify the example above by grouping the two `with` statements into one line"
   ]
  },
  {
   "cell_type": "code",
   "execution_count": 38,
   "id": "ba4f9d68",
   "metadata": {},
   "outputs": [],
   "source": [
    "with open(\"newfile.txt\", \"r\") as f, open(\"output2.txt\", \"w\") as fo:\n",
    "        for i, line in enumerate(f):\n",
    "            fo.write(f'Line {i}: {line} \\n')"
   ]
  },
  {
   "cell_type": "markdown",
   "id": "f3cd9a98",
   "metadata": {},
   "source": [
    "The output file will be the same"
   ]
  },
  {
   "cell_type": "code",
   "execution_count": 39,
   "id": "22e0c4a3",
   "metadata": {},
   "outputs": [
    {
     "name": "stdout",
     "output_type": "stream",
     "text": [
      "Line 0: Testing\n",
      " \n",
      "Line 1: Testing again \n",
      "\n"
     ]
    }
   ],
   "source": [
    "with open('output2.txt', 'r') as fo:\n",
    "    print(fo.read())"
   ]
  },
  {
   "cell_type": "markdown",
   "id": "29c65242",
   "metadata": {},
   "source": [
    "Suppose we want to continue to write into the existing file \n",
    "instead of overwriting it.\n",
    "\n",
    "we can switch the mode to `a` which stands for append mode"
   ]
  },
  {
   "cell_type": "code",
   "execution_count": 40,
   "id": "dfd65423",
   "metadata": {},
   "outputs": [],
   "source": [
    "with open('output2.txt', 'a') as fo:\n",
    "    fo.write('\\nThis is the end of the file')"
   ]
  },
  {
   "cell_type": "code",
   "execution_count": 41,
   "id": "ca58e340",
   "metadata": {},
   "outputs": [
    {
     "name": "stdout",
     "output_type": "stream",
     "text": [
      "Line 0: Testing\n",
      " \n",
      "Line 1: Testing again \n",
      "\n",
      "This is the end of the file\n"
     ]
    }
   ],
   "source": [
    "with open('output2.txt', 'r') as fo:\n",
    "    print(fo.read())"
   ]
  },
  {
   "cell_type": "markdown",
   "id": "8c4ac1c7",
   "metadata": {},
   "source": [
    "```{note}\n",
    "Note that we only covered `r`, `w`, and `a` mode here, which are the most commonly used modes. \n",
    "Python provides [a variety of modes](https://www.geeksforgeeks.org/reading-writing-text-files-python/) \n",
    "that you could experiment with.\n",
    "```\n",
    "\n",
    "### Paths\n",
    "\n",
    "```{index} single: Python; Paths\n",
    "```\n",
    "\n",
    "Note that if `newfile.txt` is not in the present working directory then this call to `open()` fails.\n",
    "\n",
    "In this case, you can shift the file to the pwd or specify the [full path](https://en.wikipedia.org/wiki/Path_%28computing%29) to the file\n",
    "\n",
    "```{code-block} python3\n",
    ":class: no-execute\n",
    "\n",
    "f = open('insert_full_path_to_file/newfile.txt', 'r')\n",
    "```\n",
    "\n",
    "(iterating_version_1)=\n",
    "## Iterating\n",
    "\n",
    "```{index} single: Python; Iteration\n",
    "```\n",
    "\n",
    "One of the most important tasks in computing is stepping through a\n",
    "sequence of data and performing a given action.\n",
    "\n",
    "One of Python's strengths is its simple, flexible interface to this kind of iteration via\n",
    "the `for` loop.\n",
    "\n",
    "### Looping over Different Objects\n",
    "\n",
    "Many Python objects are \"iterable\", in the sense that they can be looped over.\n",
    "\n",
    "To give an example, let's write the file us_cities.txt, which lists US cities and their population, to the present working directory.\n",
    "\n",
    "(us_cities_data)="
   ]
  },
  {
   "cell_type": "code",
   "execution_count": 42,
   "id": "9edcb1f5",
   "metadata": {},
   "outputs": [
    {
     "name": "stdout",
     "output_type": "stream",
     "text": [
      "Writing us_cities.txt\n"
     ]
    }
   ],
   "source": [
    "%%writefile us_cities.txt\n",
    "new york: 8244910\n",
    "los angeles: 3819702\n",
    "chicago: 2707120\n",
    "houston: 2145146\n",
    "philadelphia: 1536471\n",
    "phoenix: 1469471\n",
    "san antonio: 1359758\n",
    "san diego: 1326179\n",
    "dallas: 1223229"
   ]
  },
  {
   "cell_type": "markdown",
   "id": "44d369e4",
   "metadata": {},
   "source": [
    "Here `%%writefile` is an [IPython cell magic](https://ipython.readthedocs.io/en/stable/interactive/magics.html#cell-magics).\n",
    "\n",
    "Suppose that we want to make the information more readable, by capitalizing names and adding commas to mark thousands.\n",
    "\n",
    "The program below reads the data in and makes the conversion:"
   ]
  },
  {
   "cell_type": "code",
   "execution_count": 43,
   "id": "6faee633",
   "metadata": {},
   "outputs": [
    {
     "name": "stdout",
     "output_type": "stream",
     "text": [
      "New York       8,244,910\n",
      "Los Angeles    3,819,702\n",
      "Chicago        2,707,120\n",
      "Houston        2,145,146\n",
      "Philadelphia   1,536,471\n",
      "Phoenix        1,469,471\n",
      "San Antonio    1,359,758\n",
      "San Diego      1,326,179\n",
      "Dallas         1,223,229\n"
     ]
    }
   ],
   "source": [
    "data_file = open('us_cities.txt', 'r')\n",
    "for line in data_file:\n",
    "    city, population = line.split(':')         # Tuple unpacking\n",
    "    city = city.title()                        # Capitalize city names\n",
    "    population = f'{int(population):,}'        # Add commas to numbers\n",
    "    print(city.ljust(15) + population)\n",
    "data_file.close()"
   ]
  },
  {
   "cell_type": "markdown",
   "id": "e2f5074c",
   "metadata": {},
   "source": [
    "Here `format()` is a string method [used for inserting variables into strings](https://docs.python.org/3/library/string.html#formatspec).\n",
    "\n",
    "The reformatting of each line is the result of three different string methods,\n",
    "the details of which can be left till later.\n",
    "\n",
    "The interesting part of this program for us is line 2, which shows that\n",
    "\n",
    "1. The file object `data_file` is iterable, in the sense that it can be placed to the right of `in` within a `for` loop.\n",
    "1. Iteration steps through each line in the file.\n",
    "\n",
    "This leads to the clean, convenient syntax shown in our program.\n",
    "\n",
    "Many other kinds of objects are iterable, and we'll discuss some of them later on.\n",
    "\n",
    "### Looping without Indices\n",
    "\n",
    "One thing you might have noticed is that Python tends to favor looping without explicit indexing.\n",
    "\n",
    "For example,"
   ]
  },
  {
   "cell_type": "code",
   "execution_count": 44,
   "id": "9fb57e54",
   "metadata": {},
   "outputs": [
    {
     "name": "stdout",
     "output_type": "stream",
     "text": [
      "1\n",
      "4\n",
      "9\n"
     ]
    }
   ],
   "source": [
    "x_values = [1, 2, 3]  # Some iterable x\n",
    "for x in x_values:\n",
    "    print(x * x)"
   ]
  },
  {
   "cell_type": "markdown",
   "id": "728f0193",
   "metadata": {},
   "source": [
    "is preferred to"
   ]
  },
  {
   "cell_type": "code",
   "execution_count": 45,
   "id": "c1a98ef1",
   "metadata": {},
   "outputs": [
    {
     "name": "stdout",
     "output_type": "stream",
     "text": [
      "1\n",
      "4\n",
      "9\n"
     ]
    }
   ],
   "source": [
    "for i in range(len(x_values)):\n",
    "    print(x_values[i] * x_values[i])"
   ]
  },
  {
   "cell_type": "markdown",
   "id": "532271eb",
   "metadata": {},
   "source": [
    "When you compare these two alternatives, you can see why the first one is preferred.\n",
    "\n",
    "Python provides some facilities to simplify looping without indices.\n",
    "\n",
    "One is `zip()`, which is used for stepping through pairs from two sequences.\n",
    "\n",
    "For example, try running the following code"
   ]
  },
  {
   "cell_type": "code",
   "execution_count": 46,
   "id": "c3037a6a",
   "metadata": {},
   "outputs": [
    {
     "name": "stdout",
     "output_type": "stream",
     "text": [
      "The capital of Japan is Tokyo\n",
      "The capital of Korea is Seoul\n",
      "The capital of China is Beijing\n"
     ]
    }
   ],
   "source": [
    "countries = ('Japan', 'Korea', 'China')\n",
    "cities = ('Tokyo', 'Seoul', 'Beijing')\n",
    "for country, city in zip(countries, cities):\n",
    "    print(f'The capital of {country} is {city}')"
   ]
  },
  {
   "cell_type": "markdown",
   "id": "30155429",
   "metadata": {},
   "source": [
    "The `zip()` function is also useful for creating dictionaries --- for\n",
    "example"
   ]
  },
  {
   "cell_type": "code",
   "execution_count": 47,
   "id": "91a51fb2",
   "metadata": {},
   "outputs": [
    {
     "data": {
      "text/plain": [
       "{'Tom': 'E', 'John': 'F'}"
      ]
     },
     "execution_count": 47,
     "metadata": {},
     "output_type": "execute_result"
    }
   ],
   "source": [
    "names = ['Tom', 'John']\n",
    "marks = ['E', 'F']\n",
    "dict(zip(names, marks))"
   ]
  },
  {
   "cell_type": "markdown",
   "id": "05ba6a8b",
   "metadata": {},
   "source": [
    "If we actually need the index from a list, one option is to use `enumerate()`.\n",
    "\n",
    "To understand what `enumerate()` does, consider the following example"
   ]
  },
  {
   "cell_type": "code",
   "execution_count": 48,
   "id": "9251ab49",
   "metadata": {},
   "outputs": [
    {
     "name": "stdout",
     "output_type": "stream",
     "text": [
      "letter_list[0] = 'a'\n",
      "letter_list[1] = 'b'\n",
      "letter_list[2] = 'c'\n"
     ]
    }
   ],
   "source": [
    "letter_list = ['a', 'b', 'c']\n",
    "for index, letter in enumerate(letter_list):\n",
    "    print(f\"letter_list[{index}] = '{letter}'\")"
   ]
  },
  {
   "cell_type": "markdown",
   "id": "6aeb59f2",
   "metadata": {},
   "source": [
    "(list_comprehensions)=\n",
    "### List Comprehensions\n",
    "\n",
    "```{index} single: Python; List comprehension\n",
    "```\n",
    "\n",
    "We can also simplify the code for generating the list of random draws considerably by using something called a *list comprehension*.\n",
    "\n",
    "[List comprehensions](https://en.wikipedia.org/wiki/List_comprehension) are an elegant Python tool for creating lists.\n",
    "\n",
    "Consider the following example, where the list comprehension is on the\n",
    "right-hand side of the second line"
   ]
  },
  {
   "cell_type": "code",
   "execution_count": 49,
   "id": "9a033db5",
   "metadata": {},
   "outputs": [
    {
     "data": {
      "text/plain": [
       "['dogs', 'cats', 'birds']"
      ]
     },
     "execution_count": 49,
     "metadata": {},
     "output_type": "execute_result"
    }
   ],
   "source": [
    "animals = ['dog', 'cat', 'bird']\n",
    "plurals = [animal + 's' for animal in animals]\n",
    "plurals"
   ]
  },
  {
   "cell_type": "markdown",
   "id": "0998e105",
   "metadata": {},
   "source": [
    "Here's another example"
   ]
  },
  {
   "cell_type": "code",
   "execution_count": 50,
   "id": "a5696a02",
   "metadata": {},
   "outputs": [
    {
     "data": {
      "text/plain": [
       "range(0, 8)"
      ]
     },
     "execution_count": 50,
     "metadata": {},
     "output_type": "execute_result"
    }
   ],
   "source": [
    "range(8)"
   ]
  },
  {
   "cell_type": "code",
   "execution_count": 51,
   "id": "6586021a",
   "metadata": {},
   "outputs": [
    {
     "data": {
      "text/plain": [
       "[0, 2, 4, 6, 8, 10, 12, 14]"
      ]
     },
     "execution_count": 51,
     "metadata": {},
     "output_type": "execute_result"
    }
   ],
   "source": [
    "doubles = [2 * x for x in range(8)]\n",
    "doubles"
   ]
  },
  {
   "cell_type": "markdown",
   "id": "5be46b4b",
   "metadata": {},
   "source": [
    "## Comparisons and Logical Operators\n",
    "\n",
    "### Comparisons\n",
    "\n",
    "```{index} single: Python; Comparison\n",
    "```\n",
    "\n",
    "Many different kinds of expressions evaluate to one of the Boolean values (i.e., `True` or `False`).\n",
    "\n",
    "A common type is comparisons, such as"
   ]
  },
  {
   "cell_type": "code",
   "execution_count": 52,
   "id": "6c64a2cf",
   "metadata": {},
   "outputs": [
    {
     "data": {
      "text/plain": [
       "True"
      ]
     },
     "execution_count": 52,
     "metadata": {},
     "output_type": "execute_result"
    }
   ],
   "source": [
    "x, y = 1, 2\n",
    "x < y"
   ]
  },
  {
   "cell_type": "code",
   "execution_count": 53,
   "id": "a0c9d998",
   "metadata": {},
   "outputs": [
    {
     "data": {
      "text/plain": [
       "False"
      ]
     },
     "execution_count": 53,
     "metadata": {},
     "output_type": "execute_result"
    }
   ],
   "source": [
    "x > y"
   ]
  },
  {
   "cell_type": "markdown",
   "id": "756706b5",
   "metadata": {},
   "source": [
    "One of the nice features of Python is that we can *chain* inequalities"
   ]
  },
  {
   "cell_type": "code",
   "execution_count": 54,
   "id": "10068f21",
   "metadata": {},
   "outputs": [
    {
     "data": {
      "text/plain": [
       "True"
      ]
     },
     "execution_count": 54,
     "metadata": {},
     "output_type": "execute_result"
    }
   ],
   "source": [
    "1 < 2 < 3"
   ]
  },
  {
   "cell_type": "code",
   "execution_count": 55,
   "id": "fe9dce62",
   "metadata": {},
   "outputs": [
    {
     "data": {
      "text/plain": [
       "True"
      ]
     },
     "execution_count": 55,
     "metadata": {},
     "output_type": "execute_result"
    }
   ],
   "source": [
    "1 <= 2 <= 3"
   ]
  },
  {
   "cell_type": "markdown",
   "id": "092f23e8",
   "metadata": {},
   "source": [
    "As we saw earlier, when testing for equality we use `==`"
   ]
  },
  {
   "cell_type": "code",
   "execution_count": 56,
   "id": "047a185e",
   "metadata": {},
   "outputs": [
    {
     "data": {
      "text/plain": [
       "False"
      ]
     },
     "execution_count": 56,
     "metadata": {},
     "output_type": "execute_result"
    }
   ],
   "source": [
    "x = 1    # Assignment\n",
    "x == 2   # Comparison"
   ]
  },
  {
   "cell_type": "markdown",
   "id": "3c3c2213",
   "metadata": {},
   "source": [
    "For \"not equal\" use `!=`"
   ]
  },
  {
   "cell_type": "code",
   "execution_count": 57,
   "id": "31e4c19c",
   "metadata": {},
   "outputs": [
    {
     "data": {
      "text/plain": [
       "True"
      ]
     },
     "execution_count": 57,
     "metadata": {},
     "output_type": "execute_result"
    }
   ],
   "source": [
    "1 != 2"
   ]
  },
  {
   "cell_type": "markdown",
   "id": "e98050f8",
   "metadata": {},
   "source": [
    "Note that when testing conditions, we can use **any** valid Python expression"
   ]
  },
  {
   "cell_type": "code",
   "execution_count": 58,
   "id": "2b90f64d",
   "metadata": {},
   "outputs": [
    {
     "data": {
      "text/plain": [
       "'yes'"
      ]
     },
     "execution_count": 58,
     "metadata": {},
     "output_type": "execute_result"
    }
   ],
   "source": [
    "x = 'yes' if 42 else 'no'\n",
    "x"
   ]
  },
  {
   "cell_type": "code",
   "execution_count": 59,
   "id": "08e64319",
   "metadata": {},
   "outputs": [
    {
     "data": {
      "text/plain": [
       "'no'"
      ]
     },
     "execution_count": 59,
     "metadata": {},
     "output_type": "execute_result"
    }
   ],
   "source": [
    "x = 'yes' if [] else 'no'\n",
    "x"
   ]
  },
  {
   "cell_type": "markdown",
   "id": "454a40e7",
   "metadata": {},
   "source": [
    "What's going on here?\n",
    "\n",
    "The rule is:\n",
    "\n",
    "* Expressions that evaluate to zero, empty sequences or containers (strings, lists, etc.) and `None` are all equivalent to `False`.\n",
    "    * for example, `[]` and `()` are equivalent to `False` in an `if` clause\n",
    "* All other values are equivalent to `True`.\n",
    "    * for example, `42` is equivalent to `True` in an `if` clause\n",
    "\n",
    "### Combining Expressions\n",
    "\n",
    "```{index} single: Python; Logical Expressions\n",
    "```\n",
    "\n",
    "We can combine expressions using `and`, `or` and `not`.\n",
    "\n",
    "These are the standard logical connectives (conjunction, disjunction and denial)"
   ]
  },
  {
   "cell_type": "code",
   "execution_count": 60,
   "id": "12faab04",
   "metadata": {},
   "outputs": [
    {
     "data": {
      "text/plain": [
       "True"
      ]
     },
     "execution_count": 60,
     "metadata": {},
     "output_type": "execute_result"
    }
   ],
   "source": [
    "1 < 2 and 'f' in 'foo'"
   ]
  },
  {
   "cell_type": "code",
   "execution_count": 61,
   "id": "2222216d",
   "metadata": {},
   "outputs": [
    {
     "data": {
      "text/plain": [
       "False"
      ]
     },
     "execution_count": 61,
     "metadata": {},
     "output_type": "execute_result"
    }
   ],
   "source": [
    "1 < 2 and 'g' in 'foo'"
   ]
  },
  {
   "cell_type": "code",
   "execution_count": 62,
   "id": "99773d29",
   "metadata": {},
   "outputs": [
    {
     "data": {
      "text/plain": [
       "True"
      ]
     },
     "execution_count": 62,
     "metadata": {},
     "output_type": "execute_result"
    }
   ],
   "source": [
    "1 < 2 or 'g' in 'foo'"
   ]
  },
  {
   "cell_type": "code",
   "execution_count": 63,
   "id": "0289b8e1",
   "metadata": {},
   "outputs": [
    {
     "data": {
      "text/plain": [
       "False"
      ]
     },
     "execution_count": 63,
     "metadata": {},
     "output_type": "execute_result"
    }
   ],
   "source": [
    "not True"
   ]
  },
  {
   "cell_type": "code",
   "execution_count": 64,
   "id": "9536e14f",
   "metadata": {},
   "outputs": [
    {
     "data": {
      "text/plain": [
       "True"
      ]
     },
     "execution_count": 64,
     "metadata": {},
     "output_type": "execute_result"
    }
   ],
   "source": [
    "not not True"
   ]
  },
  {
   "cell_type": "markdown",
   "id": "2112c283",
   "metadata": {},
   "source": [
    "Remember\n",
    "\n",
    "* `P and Q` is `True` if both are `True`, else `False`\n",
    "* `P or Q` is `False` if both are `False`, else `True`\n",
    "\n",
    "We can also use `all()` and `any()` to test a sequence of expressions"
   ]
  },
  {
   "cell_type": "code",
   "execution_count": 65,
   "id": "ef285e9e",
   "metadata": {},
   "outputs": [
    {
     "data": {
      "text/plain": [
       "True"
      ]
     },
     "execution_count": 65,
     "metadata": {},
     "output_type": "execute_result"
    }
   ],
   "source": [
    "all([1 <= 2 <= 3, 5 <= 6 <= 7])"
   ]
  },
  {
   "cell_type": "code",
   "execution_count": 66,
   "id": "1a8c64fd",
   "metadata": {},
   "outputs": [
    {
     "data": {
      "text/plain": [
       "False"
      ]
     },
     "execution_count": 66,
     "metadata": {},
     "output_type": "execute_result"
    }
   ],
   "source": [
    "all([1 <= 2 <= 3, \"a\" in \"letter\"])"
   ]
  },
  {
   "cell_type": "code",
   "execution_count": 67,
   "id": "3c5f5944",
   "metadata": {},
   "outputs": [
    {
     "data": {
      "text/plain": [
       "True"
      ]
     },
     "execution_count": 67,
     "metadata": {},
     "output_type": "execute_result"
    }
   ],
   "source": [
    "any([1 <= 2 <= 3, \"a\" in \"letter\"])"
   ]
  },
  {
   "cell_type": "markdown",
   "id": "f78bf92b",
   "metadata": {},
   "source": [
    "```{note}\n",
    "* `all()` returns `True` when *all* boolean values/expressions in the sequence are `True`\n",
    "* `any()` returns `True` when *any* boolean values/expressions in the sequence are `True`\n",
    "```\n",
    "\n",
    "## Coding Style and Documentation\n",
    "\n",
    "A consistent coding style and the use of \n",
    "documentation can make the code easier to understand and maintain.\n",
    "\n",
    "### Python Style Guidelines: PEP8\n",
    "\n",
    "```{index} single: Python; PEP8\n",
    "```\n",
    "\n",
    "You can find Python programming philosophy by typing `import this` at the prompt.\n",
    "\n",
    "Among other things, Python strongly favors consistency in programming style.\n",
    "\n",
    "We've all heard the saying about consistency and little minds.\n",
    "\n",
    "In programming, as in mathematics, the opposite is true\n",
    "\n",
    "* A mathematical paper where the symbols $\\cup$ and $\\cap$ were\n",
    "  reversed would be very hard to read, even if the author told you so on the\n",
    "  first page.\n",
    "\n",
    "In Python, the standard style is set out in [PEP8](https://www.python.org/dev/peps/pep-0008/).\n",
    "\n",
    "(Occasionally we'll deviate from PEP8 in these lectures to better match mathematical notation)\n",
    "\n",
    "(Docstrings)=\n",
    "### Docstrings\n",
    "\n",
    "```{index} single: Python; Docstrings\n",
    "```\n",
    "\n",
    "Python has a system for adding comments to modules, classes, functions, etc. called *docstrings*.\n",
    "\n",
    "The nice thing about docstrings is that they are available at run-time.\n",
    "\n",
    "Try running this"
   ]
  },
  {
   "cell_type": "code",
   "execution_count": 68,
   "id": "fb3930cb",
   "metadata": {},
   "outputs": [],
   "source": [
    "def f(x):\n",
    "    \"\"\"\n",
    "    This function squares its argument\n",
    "    \"\"\"\n",
    "    return x**2"
   ]
  },
  {
   "cell_type": "markdown",
   "id": "d2786320",
   "metadata": {},
   "source": [
    "After running this code, the docstring is available"
   ]
  },
  {
   "cell_type": "code",
   "execution_count": 69,
   "id": "4a9036ac",
   "metadata": {},
   "outputs": [],
   "source": [
    "f?"
   ]
  },
  {
   "cell_type": "markdown",
   "id": "25934f82",
   "metadata": {},
   "source": [
    "```{code-block} ipython\n",
    ":class: no-execute\n",
    "\n",
    "Type:       function\n",
    "String Form:<function f at 0x2223320>\n",
    "File:       /home/john/temp/temp.py\n",
    "Definition: f(x)\n",
    "Docstring:  This function squares its argument\n",
    "```"
   ]
  },
  {
   "cell_type": "code",
   "execution_count": 70,
   "id": "0ea7b73e",
   "metadata": {},
   "outputs": [],
   "source": [
    "f??"
   ]
  },
  {
   "cell_type": "markdown",
   "id": "14428820",
   "metadata": {},
   "source": [
    "```{code-block} ipython\n",
    ":class: no-execute\n",
    "\n",
    "Type:       function\n",
    "String Form:<function f at 0x2223320>\n",
    "File:       /home/john/temp/temp.py\n",
    "Definition: f(x)\n",
    "Source:\n",
    "def f(x):\n",
    "    \"\"\"\n",
    "    This function squares its argument\n",
    "    \"\"\"\n",
    "    return x**2\n",
    "```\n",
    "\n",
    "With one question mark we bring up the docstring, and with two we get the source code as well.\n",
    "\n",
    "You can find conventions for docstrings in [PEP257](https://peps.python.org/pep-0257/)."
   ]
  }
 ],
 "metadata": {
  "jupytext": {
   "text_representation": {
    "extension": ".md",
    "format_name": "myst"
   }
  },
  "kernelspec": {
   "display_name": "Python 3",
   "language": "python",
   "name": "python3"
  },
  "language_info": {
   "codemirror_mode": {
    "name": "ipython",
    "version": 3
   },
   "file_extension": ".py",
   "mimetype": "text/x-python",
   "name": "python",
   "nbconvert_exporter": "python",
   "pygments_lexer": "ipython3",
   "version": "3.11.5"
  },
  "source_map": [
   10,
   65,
   68,
   72,
   74,
   78,
   83,
   85,
   93,
   97,
   101,
   105,
   109,
   119,
   125,
   137,
   141,
   145,
   148,
   157,
   163,
   165,
   173,
   177,
   181,
   187,
   193,
   199,
   201,
   215,
   220,
   222,
   228,
   230,
   234,
   236,
   240,
   242,
   246,
   249,
   264,
   269,
   271,
   280,
   285,
   290,
   292,
   296,
   299,
   308,
   313,
   324,
   326,
   332,
   338,
   340,
   353,
   358,
   365,
   369,
   374,
   380,
   384,
   387,
   391,
   395,
   399,
   402,
   409,
   414,
   417,
   459,
   470,
   478,
   486,
   508,
   512,
   516,
   519,
   529,
   534,
   539,
   543,
   549,
   553,
   567,
   571,
   575,
   579,
   582,
   595,
   600,
   602,
   606,
   610,
   612,
   616,
   619,
   623,
   625,
   629,
   634,
   637,
   657,
   661,
   665,
   669,
   673,
   675,
   684,
   687,
   690,
   692,
   737,
   743,
   747,
   749,
   761,
   763
  ]
 },
 "nbformat": 4,
 "nbformat_minor": 5
}