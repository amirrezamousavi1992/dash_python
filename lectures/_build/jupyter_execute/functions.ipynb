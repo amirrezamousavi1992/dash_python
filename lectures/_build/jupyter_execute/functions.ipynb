{
 "cells": [
  {
   "cell_type": "markdown",
   "id": "c1eeef93",
   "metadata": {},
   "source": [
    "(functions)=\n",
    "```{raw} jupyter\n",
    "<div id=\"qe-notebook-header\" align=\"right\" style=\"text-align:right;\">\n",
    "        <a href=\"https://quantecon.org/\" title=\"quantecon.org\">\n",
    "                <img style=\"width:250px;display:inline;\" width=\"250px\" src=\"https://assets.quantecon.org/img/qe-menubar-logo.svg\" alt=\"QuantEcon\">\n",
    "        </a>\n",
    "</div>\n",
    "```\n",
    "\n",
    "# Functions\n",
    "\n",
    "```{index} single: Python; User-defined functions\n",
    "```\n",
    "\n",
    "## Overview\n",
    "\n",
    "Functions are an extremely useful construct provided by almost all programming.\n",
    "\n",
    "We have already met several functions, such as\n",
    "\n",
    "* the `sqrt()` function from NumPy and\n",
    "* the built-in `print()` function\n",
    "\n",
    "In this lecture we'll \n",
    "\n",
    "1. treat functions systematically and cover syntax and use-cases, and\n",
    "2. learn to do is build our own user-defined functions.\n",
    "\n",
    "We will use the following imports."
   ]
  },
  {
   "cell_type": "code",
   "execution_count": 1,
   "id": "3e1d9e80",
   "metadata": {},
   "outputs": [],
   "source": [
    "import numpy as np\n",
    "import matplotlib.pyplot as plt"
   ]
  },
  {
   "cell_type": "markdown",
   "id": "cd89e7b7",
   "metadata": {},
   "source": [
    "## Function Basics\n",
    "\n",
    "A function is a named section of a program that implements a specific task.\n",
    "\n",
    "Many functions exist already and we can use them as is.\n",
    "\n",
    "First we review these functions and then discuss how we can build our own.\n",
    "\n",
    "### Built-In Functions\n",
    "\n",
    "Python has a number of **built-in** functions that are available without `import`.\n",
    "\n",
    "We have already met some"
   ]
  },
  {
   "cell_type": "code",
   "execution_count": 2,
   "id": "d0934fe2",
   "metadata": {},
   "outputs": [
    {
     "data": {
      "text/plain": [
       "20"
      ]
     },
     "execution_count": 2,
     "metadata": {},
     "output_type": "execute_result"
    }
   ],
   "source": [
    "max(19, 20)"
   ]
  },
  {
   "cell_type": "code",
   "execution_count": 3,
   "id": "0aa7205c",
   "metadata": {},
   "outputs": [
    {
     "name": "stdout",
     "output_type": "stream",
     "text": [
      "foobar\n"
     ]
    }
   ],
   "source": [
    "print('foobar')"
   ]
  },
  {
   "cell_type": "code",
   "execution_count": 4,
   "id": "508907a3",
   "metadata": {},
   "outputs": [
    {
     "data": {
      "text/plain": [
       "'22'"
      ]
     },
     "execution_count": 4,
     "metadata": {},
     "output_type": "execute_result"
    }
   ],
   "source": [
    "str(22)"
   ]
  },
  {
   "cell_type": "code",
   "execution_count": 5,
   "id": "cf55ffcc",
   "metadata": {},
   "outputs": [
    {
     "data": {
      "text/plain": [
       "int"
      ]
     },
     "execution_count": 5,
     "metadata": {},
     "output_type": "execute_result"
    }
   ],
   "source": [
    "type(22)"
   ]
  },
  {
   "cell_type": "markdown",
   "id": "7279d935",
   "metadata": {},
   "source": [
    "The full list of Python built-ins is [here](https://docs.python.org/library/functions.html).\n",
    "\n",
    "\n",
    "### Third Party Functions\n",
    "\n",
    "If the built-in functions don't cover what we need, we either need to import\n",
    "functions or create our own.\n",
    "\n",
    "Examples of importing and using functions were given in the {doc}`previous lecture <python_by_example>`\n",
    "\n",
    "Here's another one, which tests whether a given year is a leap year:"
   ]
  },
  {
   "cell_type": "code",
   "execution_count": 6,
   "id": "b88a21aa",
   "metadata": {},
   "outputs": [
    {
     "data": {
      "text/plain": [
       "True"
      ]
     },
     "execution_count": 6,
     "metadata": {},
     "output_type": "execute_result"
    }
   ],
   "source": [
    "import calendar\n",
    "calendar.isleap(2024)"
   ]
  },
  {
   "cell_type": "markdown",
   "id": "0b53bd1c",
   "metadata": {},
   "source": [
    "## Defining Functions\n",
    "\n",
    "In many instances it's useful to be able to define our own functions.\n",
    "\n",
    "Let's start by discussing how it's done.\n",
    "\n",
    "### Basic Syntax\n",
    "\n",
    "Here's a very simple Python function, that implements the mathematical function $f(x) = 2 x + 1$"
   ]
  },
  {
   "cell_type": "code",
   "execution_count": 7,
   "id": "f7637a90",
   "metadata": {},
   "outputs": [],
   "source": [
    "def f(x):\n",
    "    return 2 * x + 1"
   ]
  },
  {
   "cell_type": "markdown",
   "id": "b4c6835e",
   "metadata": {},
   "source": [
    "Now that we've defined this function, let's *call* it and check whether it does what we expect:"
   ]
  },
  {
   "cell_type": "code",
   "execution_count": 8,
   "id": "14414c9a",
   "metadata": {},
   "outputs": [
    {
     "data": {
      "text/plain": [
       "3"
      ]
     },
     "execution_count": 8,
     "metadata": {},
     "output_type": "execute_result"
    }
   ],
   "source": [
    "f(1)   "
   ]
  },
  {
   "cell_type": "code",
   "execution_count": 9,
   "id": "9fb510ee",
   "metadata": {},
   "outputs": [
    {
     "data": {
      "text/plain": [
       "21"
      ]
     },
     "execution_count": 9,
     "metadata": {},
     "output_type": "execute_result"
    }
   ],
   "source": [
    "f(10)"
   ]
  },
  {
   "cell_type": "markdown",
   "id": "ea8b12b1",
   "metadata": {},
   "source": [
    "Here's a longer function, that computes the absolute value of a given number.\n",
    "\n",
    "(Such a function already exists as a built-in, but let's write our own for the\n",
    "exercise.)"
   ]
  },
  {
   "cell_type": "code",
   "execution_count": 10,
   "id": "1b29cd7a",
   "metadata": {},
   "outputs": [],
   "source": [
    "def new_abs_function(x):\n",
    "    if x < 0:\n",
    "        abs_value = -x\n",
    "    else:\n",
    "        abs_value = x\n",
    "    return abs_value"
   ]
  },
  {
   "cell_type": "markdown",
   "id": "bc6dd9d0",
   "metadata": {},
   "source": [
    "Let's review the syntax here.\n",
    "\n",
    "* `def` is a Python keyword used to start function definitions.\n",
    "* `def new_abs_function(x):` indicates that the function is called `new_abs_function` and that it has a single argument `x`.\n",
    "* The indented code is a code block called the *function body*.\n",
    "* The `return` keyword indicates that `abs_value` is the object that should be returned to the calling code.\n",
    "\n",
    "This whole function definition is read by the Python interpreter and stored in memory.\n",
    "\n",
    "Let's call it to check that it works:"
   ]
  },
  {
   "cell_type": "code",
   "execution_count": 11,
   "id": "7d9b5c02",
   "metadata": {},
   "outputs": [
    {
     "name": "stdout",
     "output_type": "stream",
     "text": [
      "3\n",
      "3\n"
     ]
    }
   ],
   "source": [
    "print(new_abs_function(3))\n",
    "print(new_abs_function(-3))"
   ]
  },
  {
   "cell_type": "markdown",
   "id": "06ed417e",
   "metadata": {},
   "source": [
    "Note that a function can have arbitrarily many `return` statements (including zero).\n",
    "\n",
    "Execution of the function terminates when the first return is hit, allowing\n",
    "code like the following example"
   ]
  },
  {
   "cell_type": "code",
   "execution_count": 12,
   "id": "9157edf9",
   "metadata": {},
   "outputs": [],
   "source": [
    "def f(x):\n",
    "    if x < 0:\n",
    "        return 'negative'\n",
    "    return 'nonnegative'"
   ]
  },
  {
   "cell_type": "markdown",
   "id": "ed3bed60",
   "metadata": {},
   "source": [
    "(Writing functions with multiple return statements is typically discouraged, as\n",
    "it can make logic hard to follow.)\n",
    "\n",
    "Functions without a return statement automatically return the special Python object `None`.\n",
    "\n",
    "(pos_args)=\n",
    "### Keyword Arguments\n",
    "\n",
    "```{index} single: Python; keyword arguments\n",
    "```\n",
    "\n",
    "Keyword arguments are passed to functions using the parameter names explicitly. This allows you to pass arguments in any order. Here’s an example:"
   ]
  },
  {
   "cell_type": "code",
   "execution_count": 13,
   "id": "d0698f61",
   "metadata": {},
   "outputs": [
    {
     "name": "stdout",
     "output_type": "stream",
     "text": [
      "Hello, my name is Alice and I am 30 years old.\n"
     ]
    }
   ],
   "source": [
    "def greet(name, age):\n",
    "    print(f\"Hello, my name is {name} and I am {age} years old.\")\n",
    "\n",
    "# Using keyword arguments\n",
    "greet(age=30, name='Alice')"
   ]
  },
  {
   "cell_type": "markdown",
   "id": "f6d108ac",
   "metadata": {},
   "source": [
    "In this user-defined function call to greet function, notice that the arguments are passed in `name=argument` syntax.\n",
    "\n",
    "This is called  *keyword arguments*, with age and name being the keywords.\n",
    "\n",
    "Keyword arguments are particularly useful when a function has a lot of arguments, in which case it's hard to remember the right order.\n",
    "\n",
    "You can adopt keyword arguments in user-defined functions with no difficulty.\n",
    "\n",
    "Non-keyword arguments are called *positional arguments*, since their meaning\n",
    "is determined by order.\n",
    "\n",
    "### The Flexibility of Python Functions\n",
    "\n",
    "As we discussed in the {ref}`previous lecture <python_by_example>`, Python functions are very flexible.\n",
    "\n",
    "In particular\n",
    "\n",
    "* Any number of functions can be defined in a given file.\n",
    "* Functions can be (and often are) defined inside other functions.\n",
    "* Any object can be passed to a function as an argument, including other functions.\n",
    "* A function can return any kind of object, including functions.\n",
    "\n",
    "We will give examples of how straightforward it is to pass a function to\n",
    "a function in the following sections.\n",
    "\n",
    "### One-Line Functions: `lambda`\n",
    "\n",
    "```{index} single: Python; lambda functions\n",
    "```\n",
    "\n",
    "The `lambda` keyword is used to create simple functions on one line.\n",
    "\n",
    "For example, the definitions"
   ]
  },
  {
   "cell_type": "code",
   "execution_count": 14,
   "id": "934f11c0",
   "metadata": {},
   "outputs": [],
   "source": [
    "def f(x):\n",
    "    return x**3"
   ]
  },
  {
   "cell_type": "markdown",
   "id": "d31d872d",
   "metadata": {},
   "source": [
    "and"
   ]
  },
  {
   "cell_type": "code",
   "execution_count": 15,
   "id": "8c3f1e39",
   "metadata": {},
   "outputs": [],
   "source": [
    "f = lambda x: x**3"
   ]
  },
  {
   "cell_type": "markdown",
   "id": "1b33665c",
   "metadata": {},
   "source": [
    "are entirely equivalent.\n",
    "\n",
    "To see why `lambda` is useful, suppose that we want to calculate $\\int_0^2 x^3 dx$ (and have forgotten our high-school calculus).\n",
    "\n",
    "The SciPy library has a function called `quad` that will do this calculation for us.\n",
    "\n",
    "The syntax of the `quad` function is `quad(f, a, b)` where `f` is a function and `a` and `b` are numbers.\n",
    "\n",
    "To create the function $f(x) = x^3$ we can use `lambda` as follows"
   ]
  },
  {
   "cell_type": "code",
   "execution_count": 16,
   "id": "65ffd76b",
   "metadata": {},
   "outputs": [
    {
     "data": {
      "text/plain": [
       "(4.0, 4.440892098500626e-14)"
      ]
     },
     "execution_count": 16,
     "metadata": {},
     "output_type": "execute_result"
    }
   ],
   "source": [
    "from scipy.integrate import quad\n",
    "\n",
    "quad(lambda x: x**3, 0, 2)"
   ]
  },
  {
   "cell_type": "markdown",
   "id": "3e065db2",
   "metadata": {},
   "source": [
    "Here the function created by `lambda` is said to be *anonymous* because it was never given a name.\n",
    "\n",
    "\n",
    "### Why Write Functions?\n",
    "\n",
    "User-defined functions are important for improving the clarity of your code by\n",
    "\n",
    "* separating different strands of logic\n",
    "* facilitating code reuse\n",
    "\n",
    "(Writing the same thing twice is [almost always a bad idea](https://en.wikipedia.org/wiki/Don%27t_repeat_yourself))"
   ]
  }
 ],
 "metadata": {
  "jupytext": {
   "text_representation": {
    "extension": ".md",
    "format_name": "myst"
   }
  },
  "kernelspec": {
   "display_name": "Python 3",
   "language": "python",
   "name": "python3"
  },
  "language_info": {
   "codemirror_mode": {
    "name": "ipython",
    "version": 3
   },
   "file_extension": ".py",
   "mimetype": "text/x-python",
   "name": "python",
   "nbconvert_exporter": "python",
   "pygments_lexer": "ipython3",
   "version": "3.11.5"
  },
  "source_map": [
   10,
   42,
   45,
   61,
   65,
   69,
   73,
   75,
   89,
   92,
   104,
   107,
   111,
   115,
   117,
   124,
   131,
   144,
   147,
   155,
   160,
   175,
   181,
   217,
   220,
   224,
   226,
   238,
   242
  ]
 },
 "nbformat": 4,
 "nbformat_minor": 5
}